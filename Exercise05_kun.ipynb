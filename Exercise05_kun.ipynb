{
 "metadata": {
  "name": "",
  "signature": "sha256:75ebca98c0c3c2f35ea30c18558c6f18f28de01602ebf7ccddbf5c30b833e2cb"
 },
 "nbformat": 3,
 "nbformat_minor": 0,
 "worksheets": [
  {
   "cells": [
    {
     "cell_type": "code",
     "collapsed": false,
     "input": [
      "import os\n",
      "import sys\n",
      "import glob\n",
      "import matplotlib.pyplot as plt\n",
      "import numpy as np\n",
      "import pandas as pd\n",
      "%matplotlib inline\n",
      "%precision 4\n",
      "plt.style.use('ggplot')"
     ],
     "language": "python",
     "metadata": {},
     "outputs": [],
     "prompt_number": 15
    },
    {
     "cell_type": "code",
     "collapsed": false,
     "input": [
      "from sympy import Symbol, exp, I, pi, N, expand\n",
      "from sympy import init_printing \n",
      "init_printing()"
     ],
     "language": "python",
     "metadata": {},
     "outputs": [],
     "prompt_number": 16
    },
    {
     "cell_type": "markdown",
     "metadata": {},
     "source": [
      "Background for Exercises 1 and 2\n",
      "----\n",
      "\n",
      "The first 2 exercises are about using Newton's method to find the cube roots of unity - find $z$ such that $z^3 = 1$. From the fundamental theorem of algebra, we know there must be exactly 3 complex roots since this is a degree 3 polynomial.\n",
      "\n",
      "We start with Euler's fabulosu equation\n",
      "$$\n",
      "e^{ix} = \\cos x + i \\sin x\n",
      "$$\n",
      "\n",
      "Raising $e^{ix}$ to the $n$th power where $n$ is an integer, we get from Euler's formula with $nx$ substituting for $x$\n",
      "$$\n",
      "(e^{ix})^n = e^{i(nx)} = \\cos nx + i \\sin nx\n",
      "$$\n",
      "\n",
      "Whenever $nx$ is an integer multiple of $2\\pi$, we have\n",
      "$$\n",
      "\\cos nx + i \\sin nx = 1\n",
      "$$\n",
      "\n",
      "So\n",
      "$$\n",
      "e^{2\\pi i \\frac{k}{n}}\n",
      "$$\n",
      "is a root of 1 whenever $k/n = 0, 1, 2, \\ldots$.\n",
      "\n",
      "So the cube roots of unity are $1, e^{2\\pi i/3}, e^{4\\pi i/3}$. \n",
      "\n",
      "While we can do this analytically, the idea is to use Newton's method to find these roots, and in the process, disover some rather perplexing behavior of Newton's method."
     ]
    },
    {
     "cell_type": "code",
     "collapsed": false,
     "input": [
      "expand(exp(2*pi*I/3), complex=True)"
     ],
     "language": "python",
     "metadata": {},
     "outputs": [
      {
       "latex": [
        "$$- \\frac{1}{2} + \\frac{\\sqrt{3} i}{2}$$"
       ],
       "metadata": {},
       "output_type": "pyout",
       "png": "[encoded data removed]",
       "prompt_number": 182,
       "text": [
        "        ___  \n",
        "  1   \u2572\u2571 3 \u22c5\u2148\n",
        "- \u2500 + \u2500\u2500\u2500\u2500\u2500\u2500\u2500\n",
        "  2      2   "
       ]
      }
     ],
     "prompt_number": 182
    },
    {
     "cell_type": "code",
     "collapsed": false,
     "input": [
      "expand(exp(4*pi*I/3), complex=True)"
     ],
     "language": "python",
     "metadata": {},
     "outputs": [
      {
       "latex": [
        "$$- \\frac{1}{2} - \\frac{\\sqrt{3} i}{2}$$"
       ],
       "metadata": {},
       "output_type": "pyout",
       "png": "[encoded data removed]",
       "prompt_number": 183,
       "text": [
        "        ___  \n",
        "  1   \u2572\u2571 3 \u22c5\u2148\n",
        "- \u2500 - \u2500\u2500\u2500\u2500\u2500\u2500\u2500\n",
        "  2      2   "
       ]
      }
     ],
     "prompt_number": 183
    },
    {
     "cell_type": "code",
     "collapsed": false,
     "input": [
      "plt.figure(figsize=(4,4))\n",
      "roots = np.array([[1,0], [-0.5, np.sqrt(3)/2], [-0.5, -np.sqrt(3)/2]])\n",
      "plt.scatter(roots[:,0], roots[:,1], s=50, c='red')\n",
      "xp = np.linspace(0, 2*np.pi, 100)\n",
      "plt.plot(np.cos(xp), np.sin(xp), c='blue');"
     ],
     "language": "python",
     "metadata": {},
     "outputs": [
      {
       "metadata": {},
       "output_type": "display_data",
       "png": "[encoded data removed]",
       "text": [
        "<matplotlib.figure.Figure at 0x7f457a0e2d50>"
       ]
      }
     ],
     "prompt_number": 184
    },
    {
     "cell_type": "markdown",
     "metadata": {},
     "source": [
      "**Exercise 1 (10 points)**. Netwon's method for functions of complex variables - stability and basins of attraction.\n",
      "\n",
      "1. Write a function with the following function signature `newton(z, f, fprime, max_iter=100, tol=1e-6)` where\n",
      "    - `z` is a starting value (a complex number e.g.  ` 3 + 4j`)\n",
      "    - `f` is a function of `z`\n",
      "    - `fprime` is the derivative of  `f`\n",
      "The function will run until either max_iter is reached or the absolute value of the Newton step is less than tol. In either case, the function should return the number of iterations taken and the final value of `z` as a tuple (`i`, `z`). \n",
      "\n",
      "2. Define the function `f` and `fprime` that will result in Newton's method finding the cube roots of 1. Find 3 starting points that will give different roots, and print both the start and end points. "
     ]
    },
    {
     "cell_type": "code",
     "collapsed": false,
     "input": [
      "# Write newton optimization function in complex field\n",
      "import sympy as sp\n",
      "from sympy.abc import *\n",
      "\n",
      "def newton(z, f, fprime, max_iter=100, tol=1e-6):\n",
      "    # Created list 'theta' to store value of z in each iteration\n",
      "    theta = [z]\n",
      "    \n",
      "    # Used lambdify to make symbolic function return numeric values\n",
      "    # Used expand to make newton's method eligible in complex field\n",
      "    #f_value = sp.lambdify(x,expand(f,complex=True))\n",
      "    #fprime_value = sp.lambdify(x,expand(fprime,complex=True))\n",
      "    \n",
      "    # Iterated with Newton's method\n",
      "    for i in range(max_iter):\n",
      "        theta.append(theta[i]-(f(theta[i]))/fprime(theta[i]))\n",
      "    \n",
      "    # Used abs() (distance) to compare value of complex number\n",
      "        if abs(theta[i+1]-theta[i]) < tol:\n",
      "            break\n",
      "    return len(theta), theta[-1]\n",
      "\n",
      "f = sp.lambdify(x,expand(x**3-1,complex=True))\n",
      "fprime = sp.lambdify(x,expand(3*x**2,complex=True))\n",
      "\n",
      "# Defined function f = x**3-1 and fprime = 3*x**2\n",
      "# Used complex(-1,-1), complex(-1,1), complex(1,1) as starting point to return 3 different final value\n",
      "print 'number of iteration and final value of z is respectively:',newton(complex(-1,-1),f,fprime,max_iter=100)\n",
      "print 'number of iteration and final value of z is respectively:',newton(complex(-1,1),f,fprime,max_iter=100)\n",
      "print 'number of iteration and final value of z is respectively:',newton(complex(1,1),f,fprime,max_iter=100)"
     ],
     "language": "python",
     "metadata": {},
     "outputs": [
      {
       "output_type": "stream",
       "stream": "stdout",
       "text": [
        "number of iteration and final value of z is respectively: (6, (-0.49999999999995542-0.86602540378469328j))\n",
        "number of iteration and final value of z is respectively: (6, (-0.49999999999995542+0.86602540378469328j))\n",
        "number of iteration and final value of z is respectively: (9, (0.99999999999999944-4.5562445194162895e-16j))\n"
       ]
      }
     ],
     "prompt_number": 17
    },
    {
     "cell_type": "markdown",
     "metadata": {},
     "source": [
      "**Exercise 2 (10 points)**. Write the following two plotting functions to see some (pretty) aspects of Newton's algorithm in the complex plane.\n",
      "\n",
      "1. The first function `plot_newton_iters(f, fprime, n=200, extent=[-1,1,-1,1], cmap='hsv')` calculates and stores the number of iterations taken for convergence (or max_iter) for each point in a 2D array. The 2D array limits are given by `extent` - for example, when `extent = [-1,1,-1,1]` the corners of the plot are `(-i, -i), (1, -i), (1, i), (-1, i)`. There are `n` grid points in both the real and imaginary axes. The argument `cmap` specifies the color map to use - the suggested defaults are fine. Finally plot the image using `plt.imshow` - make sure the axis ticks are correctly scaled. Make a plot for the cube roots of 1.\n",
      "\n",
      "2. The second function `plot_newton_basins(f, fprime, n=200, extent=[-1,1,-1,1], cmap='jet')` has the same arguments, but this time the grid stores the identity of the root that the starting point converged to. Make a plot for the cube roots of 1 - since there are 3 roots, there should be only 3 colors in the plot."
     ]
    },
    {
     "cell_type": "code",
     "collapsed": false,
     "input": [
      "# First Function\n",
      "def plot_newton_iters(f, fprime, n=200, extent=[-1,1,-1,1], cmap='hsv'):\n",
      "    \n",
      "    # Created matrix to store iteration numbers\n",
      "    points = np.zeros(shape=(n,n))\n",
      "    for real in range(n):\n",
      "        for imaginary in range(n):\n",
      "            \n",
      "            # Normalize index to extent\n",
      "            r=float((extent[1]-extent[0])*float(real)/n)+extent[0]\n",
      "            i=float((extent[3]-extent[2])*float(imaginary)/n)+extent[2]\n",
      "            \n",
      "            # Store points in matrix\n",
      "            points[real,imaginary] = newton(complex(r,i), f, fprime, max_iter=100, tol=1e-6)[0]\n",
      "    return plt.imshow(points.T,cmap,extent=extent)\n",
      "\n",
      "plot_newton_iters(f, fprime, n=200, extent=[-1,1,-1,1], cmap='hsv')"
     ],
     "language": "python",
     "metadata": {},
     "outputs": [
      {
       "metadata": {},
       "output_type": "pyout",
       "prompt_number": 8,
       "text": [
        "<matplotlib.image.AxesImage at 0x7fdff1ec3350>"
       ]
      },
      {
       "metadata": {},
       "output_type": "display_data",
       "png": "[encoded data removed]",
       "text": [
        "<matplotlib.figure.Figure at 0x7fdff1fbffd0>"
       ]
      }
     ],
     "prompt_number": 8
    },
    {
     "cell_type": "code",
     "collapsed": false,
     "input": [
      "# Second Function\n",
      "def plot_newton_basin(f, fprime, n=200, extent=[-1,1,-1,1], cmap='jet'):\n",
      "    \n",
      "    # Created temp to store final value of newton\n",
      "    temp = 0\n",
      "    points=np.zeros(shape=(n,n))\n",
      "    for real in range(n):\n",
      "        for imaginary in range(n):\n",
      "            r=float(extent[1]-extent[0])*real/n+extent[0]\n",
      "            i=float(extent[3]-extent[2])*imaginary/n+extent[2]\n",
      "            temp = newton(complex(r,i), f, fprime, max_iter=100, tol=1e-6)[1]\n",
      "            \n",
      "            # Compare different value of temp and assign specific value to its initial point\n",
      "            if abs(temp-1)<1e-3:\n",
      "                points[real,imaginary]=0\n",
      "            elif abs(temp-(-0.5+0.866j))<1e-3:\n",
      "                points[real,imaginary]=-10\n",
      "            else:\n",
      "                points[real,imaginary]=10\n",
      "                \n",
      "    return plt.imshow(points.T,cmap,extent=extent)\n",
      "\n",
      "plot_newton_basin(f, fprime, n=200, extent=[-1,1,-1,1], cmap='jet')"
     ],
     "language": "python",
     "metadata": {},
     "outputs": [
      {
       "metadata": {},
       "output_type": "pyout",
       "prompt_number": 6,
       "text": [
        "<matplotlib.image.AxesImage at 0x7fdff205e750>"
       ]
      },
      {
       "metadata": {},
       "output_type": "display_data",
       "png": "[encoded data removed]",
       "text": [
        "<matplotlib.figure.Figure at 0x7fdff2668750>"
       ]
      }
     ],
     "prompt_number": 6
    },
    {
     "cell_type": "markdown",
     "metadata": {},
     "source": [
      "**Exercise 3 (10 points)**. Consider the following function on $\\mathbb{R}^2$:\n",
      "\n",
      "$$f(x_1,x_2) = -x_1x_2e^{-\\frac{(x_1^2+x_2^2)}{2}}$$\n",
      "\n",
      "1. Use `sympy` to compute its gradient.\n",
      "2. Compute the Hessian matrix. \n",
      "3. Find the critical points of $f$.\n",
      "4. Characterize the critical points as max/min or neither. Find the minimum under the constraint \n",
      "$$g(x) = x_1^2+x_2^2 \\leq 10$$\n",
      "and \n",
      "$$h(x) = 2x_1 + 3x_2 = 5$$ using `scipy.optimize.minimize`.\n",
      "5. Plot the function using `matplotlib`."
     ]
    },
    {
     "cell_type": "code",
     "collapsed": false,
     "input": [
      "import scipy.optimize as so\n",
      "# 1. Use sympy to compute its gradient.\n",
      "x1,x2 = sp.symbols('x1:3')\n",
      "func = -x1*x2*exp(-(x1**2+x2**2)/2)\n",
      "gradient_x1 = func.diff(x1)\n",
      "gradient_x2 = func.diff(x2)\n",
      "\n",
      "# 2. Compute the Hessian matrix.\n",
      "hessian = sp.hessian(func,(x1,x2))\n",
      "hessian"
     ],
     "language": "python",
     "metadata": {},
     "outputs": [
      {
       "latex": [
        "$$\\left[\\begin{matrix}- x_{1}^{3} x_{2} e^{- \\frac{x_{1}^{2}}{2} - \\frac{x_{2}^{2}}{2}} + 3 x_{1} x_{2} e^{- \\frac{x_{1}^{2}}{2} - \\frac{x_{2}^{2}}{2}} & - x_{1}^{2} x_{2}^{2} e^{- \\frac{x_{1}^{2}}{2} - \\frac{x_{2}^{2}}{2}} + x_{1}^{2} e^{- \\frac{x_{1}^{2}}{2} - \\frac{x_{2}^{2}}{2}} + x_{2}^{2} e^{- \\frac{x_{1}^{2}}{2} - \\frac{x_{2}^{2}}{2}} - e^{- \\frac{x_{1}^{2}}{2} - \\frac{x_{2}^{2}}{2}}\\\\- x_{1}^{2} x_{2}^{2} e^{- \\frac{x_{1}^{2}}{2} - \\frac{x_{2}^{2}}{2}} + x_{1}^{2} e^{- \\frac{x_{1}^{2}}{2} - \\frac{x_{2}^{2}}{2}} + x_{2}^{2} e^{- \\frac{x_{1}^{2}}{2} - \\frac{x_{2}^{2}}{2}} - e^{- \\frac{x_{1}^{2}}{2} - \\frac{x_{2}^{2}}{2}} & - x_{1} x_{2}^{3} e^{- \\frac{x_{1}^{2}}{2} - \\frac{x_{2}^{2}}{2}} + 3 x_{1} x_{2} e^{- \\frac{x_{1}^{2}}{2} - \\frac{x_{2}^{2}}{2}}\\end{matrix}\\right]$$"
       ],
       "metadata": {},
       "output_type": "pyout",
       "prompt_number": 21,
       "text": [
        "\u23a1                             2     2                2     2                  \n",
        "\u23a2                           x\u2081    x\u2082               x\u2081    x\u2082                   \n",
        "\u23a2                         - \u2500\u2500\u2500 - \u2500\u2500\u2500            - \u2500\u2500\u2500 - \u2500\u2500\u2500                  \n",
        "\u23a2                   3        2     2                2     2                   \n",
        "\u23a2               - x\u2081 \u22c5x\u2082\u22c5\u212f            + 3\u22c5x\u2081\u22c5x\u2082\u22c5\u212f                             \n",
        "\u23a2                                                                             \n",
        "\u23a2               2     2            2     2            2     2        2     2  \n",
        "\u23a2             x\u2081    x\u2082           x\u2081    x\u2082           x\u2081    x\u2082       x\u2081    x\u2082   \n",
        "\u23a2           - \u2500\u2500\u2500 - \u2500\u2500\u2500        - \u2500\u2500\u2500 - \u2500\u2500\u2500        - \u2500\u2500\u2500 - \u2500\u2500\u2500    - \u2500\u2500\u2500 - \u2500\u2500\u2500  \n",
        "\u23a2    2   2     2     2      2     2     2      2     2     2        2     2   \n",
        "\u23a3- x\u2081 \u22c5x\u2082 \u22c5\u212f            + x\u2081 \u22c5\u212f            + x\u2082 \u22c5\u212f            - \u212f             \n",
        "\n",
        "               2     2            2     2            2     2        2     2\u23a4\n",
        "             x\u2081    x\u2082           x\u2081    x\u2082           x\u2081    x\u2082       x\u2081    x\u2082 \u23a5\n",
        "           - \u2500\u2500\u2500 - \u2500\u2500\u2500        - \u2500\u2500\u2500 - \u2500\u2500\u2500        - \u2500\u2500\u2500 - \u2500\u2500\u2500    - \u2500\u2500\u2500 - \u2500\u2500\u2500\u23a5\n",
        "    2   2     2     2      2     2     2      2     2     2        2     2 \u23a5\n",
        "- x\u2081 \u22c5x\u2082 \u22c5\u212f            + x\u2081 \u22c5\u212f            + x\u2082 \u22c5\u212f            - \u212f           \u23a5\n",
        "                                                                           \u23a5\n",
        "                             2     2                2     2                \u23a5\n",
        "                           x\u2081    x\u2082               x\u2081    x\u2082                 \u23a5\n",
        "                         - \u2500\u2500\u2500 - \u2500\u2500\u2500            - \u2500\u2500\u2500 - \u2500\u2500\u2500                \u23a5\n",
        "                      3     2     2                2     2                 \u23a5\n",
        "               - x\u2081\u22c5x\u2082 \u22c5\u212f            + 3\u22c5x\u2081\u22c5x\u2082\u22c5\u212f                           \u23a6"
       ]
      }
     ],
     "prompt_number": 21
    },
    {
     "cell_type": "code",
     "collapsed": false,
     "input": [
      "# 3. Find the critical points of f\n",
      "cri_points = sp.solve((gradient_x1,gradient_x2),x1,x2)\n",
      "print 'the critical points of function is:', cri_points"
     ],
     "language": "python",
     "metadata": {},
     "outputs": [
      {
       "output_type": "stream",
       "stream": "stdout",
       "text": [
        "the critical points of function is: [(-1, -1), (-1, 1), (0, 0), (1, -1), (1, 1)]\n"
       ]
      }
     ],
     "prompt_number": 25
    },
    {
     "cell_type": "code",
     "collapsed": false,
     "input": [
      "# 4. Characterize the critical points as max/min or neither\n",
      "hessian = sp.hessian(func,(x1,x2))\n",
      "hessian = sp.lambdify([x1,x2],hessian)\n",
      "print 'Critical point (-1,-1) is a min point since the eigenvalue of heassian is',np.linalg.eig(hessian(-1,-1))[0]\n",
      "print 'Critical point (-1,1) is a max point since the eigenvalue of heassian is',np.linalg.eig(hessian(-1,1))[0]\n",
      "print 'Critical point (0,0) is neither max nor min point since the eigenvalue of heassian is',np.linalg.eig(hessian(0,0))[0]\n",
      "print 'Critical point (1,-1) is a max point since the eigenvalue of heassian is',np.linalg.eig(hessian(1,-1))[0]\n",
      "print 'Critical point (1,1) is a min point since the eigenvalue of heassian is',np.linalg.eig(hessian(1,1))[0],'\\n'\n",
      "\n",
      "# Find the minimum under the constraint\n",
      "X=sp.DeferredVector('X')\n",
      "gx = sp.lambdify(X,10-X[0]**2-X[1]**2)\n",
      "hx = sp.lambdify(X,2*X[0]+3*X[1]-5)\n",
      "func_value = sp.lambdify(X,-X[0]*X[1]*exp(-(X[0]**2+X[1]**2)/2))\n",
      "cons = ({'type': 'ineq', 'fun': gx},\n",
      "         {'type': 'eq', 'fun': hx})\n",
      "\n",
      "print 'The minimum of function is',so.minimize(func_value,cri_points,constraints=cons).fun\n"
     ],
     "language": "python",
     "metadata": {},
     "outputs": [
      {
       "output_type": "stream",
       "stream": "stdout",
       "text": [
        "Critical point (-1,-1) is a min point since the eigenvalue of heassian is [ 0.7358  0.7358]\n",
        "Critical point (-1,1) is a max point since the eigenvalue of heassian is [-0.7358 -0.7358]\n",
        "Critical point (0,0) is neither max nor min point since the eigenvalue of heassian is [ 1. -1.]\n",
        "Critical point (1,-1) is a max point since the eigenvalue of heassian is [-0.7358 -0.7358]\n",
        "Critical point (1,1) is a min point since the eigenvalue of heassian is [ 0.7358  0.7358] \n",
        "\n",
        "The minimum of function is -0.367879139289\n"
       ]
      }
     ],
     "prompt_number": 26
    },
    {
     "cell_type": "code",
     "collapsed": false,
     "input": [
      "# 5.Plot the function using matplotlib\n",
      "from mpl_toolkits.mplot3d import Axes3D\n",
      "from matplotlib import cm\n",
      "from matplotlib.ticker import LinearLocator, FormatStrFormatter\n",
      "import matplotlib.pyplot as plt\n",
      "import numpy as np\n",
      "\n",
      "fig = plt.figure()\n",
      "ax = fig.gca(projection='3d')\n",
      "X = np.arange(-3, 3, 0.25)\n",
      "Y = np.arange(-3, 3, 0.25)\n",
      "X, Y = np.meshgrid(X, Y)\n",
      "Z = -X*Y*np.exp(-(X**2+Y**2)/2)\n",
      "surf = ax.plot_surface(X, Y, Z, rstride=1, cstride=1, cmap=cm.coolwarm,\n",
      "        linewidth=0, antialiased=False)\n",
      "ax.set_zlim(-1.01, 1.01)\n",
      "\n",
      "ax.zaxis.set_major_locator(LinearLocator(10))\n",
      "ax.zaxis.set_major_formatter(FormatStrFormatter('%.02f'))\n",
      "\n",
      "fig.colorbar(surf, shrink=0.5, aspect=5)\n",
      "\n",
      "plt.show()"
     ],
     "language": "python",
     "metadata": {},
     "outputs": [
      {
       "metadata": {},
       "output_type": "display_data",
       "png": "[encoded data removed]",
       "text": [
        "<matplotlib.figure.Figure at 0x7fdfed6ea550>"
       ]
      }
     ],
     "prompt_number": 27
    },
    {
     "cell_type": "markdown",
     "metadata": {},
     "source": [
      "**Exercise 4 (20 points)**. Find the maximum likelihood function for a logistic regression. Load the file \"train.csv\" (located in this directory) into python.  This file is data from the survival data from the Titanic (from https://www.kaggle.com/).  You are to use a logistic regression to model survival as a function of gender, age and class (of travel). Find the maximum likelihood estimator of $\\beta$ by numerical optimization using stochastic gradient descent as follows:\n",
      "\n",
      "1. Stochastic gradient descent.  In this method, gradient descent is used essentially by fitting *one data point at a time*.  Recall the usual gradient descent step:\n",
      "\n",
      "$$\\beta_{i+1} = \\beta_i - \\nabla \\ell(\\beta_i)$$\n",
      "\n",
      "where\n",
      "\n",
      "$$\\nabla \\ell(\\beta_i) = \\sum\\limits_{j=1}^n \\nabla\\ell(\\beta_i,x_j,y_j)$$\n",
      "\n",
      "and $\\ell$ is the log-likelihood function.  All of the data is used to make the next step toward the optimal $\\beta$.  In stochastic gradient descent, only one point at a time is used to determine the next $\\beta$:\n",
      "\n",
      "$$\\beta_{i+1} = \\beta_i - \\alpha\\nabla \\ell(\\beta_i,x_j,y_j)$$\n",
      "\n",
      "where $\\alpha$ is the step size.  For simplicity, we'll take a constant $\\alpha=1$.\n",
      "\n",
      "Implement the following stochastic gradient algorithm:\n",
      " \n",
      "   a. Shuffle data points (i.e. randomly permute the order of the $(x_j,y_j)$\n",
      "   \n",
      "   b. Refine beta using the iterative formula above over each data point. \n",
      "   \n",
      "   c. Repeat a and b until convergence is reached.\n",
      " \n",
      "Apply the algorithm to the given data set to find the best-fit logistic regression coefficients.  Do not forget that your optimization should include a tolerance and a limit on the number of iterations."
     ]
    },
    {
     "cell_type": "code",
     "collapsed": false,
     "input": [
      "'''First we read and clean the data'''\n",
      "# Import train.csv, store as csv_train\n",
      "import csv\n",
      "train = open('train.csv')\n",
      "csv_train = csv.reader(train)\n",
      "\n",
      "# Read gender, age, class from csv_train \n",
      "constant = []\n",
      "gender = []\n",
      "age = []\n",
      "tclass = []\n",
      "survived = []\n",
      "for row in csv_train:\n",
      "    constant.append(1)\n",
      "    survived.append(row[1])\n",
      "    age.append(row[5])\n",
      "    tclass.append(row[2])    \n",
      "    # Replaced male, female with 1,0 respectively\n",
      "    if row[4]=='male':\n",
      "        gender.append(1)\n",
      "    else:\n",
      "        gender.append(0)\n",
      "\n",
      "# Combine constant, gender, age, tclass as pandas dataframe\n",
      "X = pd.DataFrame(zip(constant,gender,age,tclass,survived))\n",
      "X = X.drop(X.index[:1])\n",
      "X.columns = ['constant','gender','age','tclass','survived']\n",
      "\n",
      "# Deleted rows with empty value of age \n",
      "X = X[X.age!='']\n",
      "\n",
      "# Transform catagorical data of class to dummy variables\n",
      "for elem in X['tclass'].unique():\n",
      "    X[str(elem)] = X['tclass'] == elem\n",
      "X = X.drop(['tclass','3'],axis=1)\n",
      "X.columns = ['constant','gender','age','survived','class1','class2']\n",
      "X.class1 = X.class1.apply(lambda x: 1 if x==True else 0)\n",
      "X.class2 = X.class2.apply(lambda x: 1 if x==True else 0)\n",
      "\n",
      "# normalize age\n",
      "X.survived = X.survived.convert_objects(convert_numeric=True)\n",
      "X.age = X.age.convert_objects(convert_numeric=True)\n",
      "X.age = (X.age - X.mean()['age'])/ (X.max()['age']-X.min()['age'])\n",
      "\n",
      "# Rearange column order\n",
      "cols = ['constant', 'gender', 'age', 'class1', 'class2', 'survived']\n",
      "X = X[cols]\n",
      "X.head()"
     ],
     "language": "python",
     "metadata": {},
     "outputs": [
      {
       "html": [
        "<div style=\"max-height:1000px;max-width:1500px;overflow:auto;\">\n",
        "<table border=\"1\" class=\"dataframe\">\n",
        "  <thead>\n",
        "    <tr style=\"text-align: right;\">\n",
        "      <th></th>\n",
        "      <th>constant</th>\n",
        "      <th>gender</th>\n",
        "      <th>age</th>\n",
        "      <th>class1</th>\n",
        "      <th>class2</th>\n",
        "      <th>survived</th>\n",
        "    </tr>\n",
        "  </thead>\n",
        "  <tbody>\n",
        "    <tr>\n",
        "      <th>1</th>\n",
        "      <td> 1</td>\n",
        "      <td> 1</td>\n",
        "      <td>-0.096747</td>\n",
        "      <td> 0</td>\n",
        "      <td> 0</td>\n",
        "      <td> 0</td>\n",
        "    </tr>\n",
        "    <tr>\n",
        "      <th>2</th>\n",
        "      <td> 1</td>\n",
        "      <td> 0</td>\n",
        "      <td> 0.104309</td>\n",
        "      <td> 1</td>\n",
        "      <td> 0</td>\n",
        "      <td> 1</td>\n",
        "    </tr>\n",
        "    <tr>\n",
        "      <th>3</th>\n",
        "      <td> 1</td>\n",
        "      <td> 0</td>\n",
        "      <td>-0.046483</td>\n",
        "      <td> 0</td>\n",
        "      <td> 0</td>\n",
        "      <td> 1</td>\n",
        "    </tr>\n",
        "    <tr>\n",
        "      <th>4</th>\n",
        "      <td> 1</td>\n",
        "      <td> 0</td>\n",
        "      <td> 0.066611</td>\n",
        "      <td> 1</td>\n",
        "      <td> 0</td>\n",
        "      <td> 1</td>\n",
        "    </tr>\n",
        "    <tr>\n",
        "      <th>5</th>\n",
        "      <td> 1</td>\n",
        "      <td> 1</td>\n",
        "      <td> 0.066611</td>\n",
        "      <td> 0</td>\n",
        "      <td> 0</td>\n",
        "      <td> 0</td>\n",
        "    </tr>\n",
        "  </tbody>\n",
        "</table>\n",
        "</div>"
       ],
       "metadata": {},
       "output_type": "pyout",
       "prompt_number": 300,
       "text": [
        "   constant  gender       age  class1  class2  survived\n",
        "1         1       1 -0.096747       0       0         0\n",
        "2         1       0  0.104309       1       0         1\n",
        "3         1       0 -0.046483       0       0         1\n",
        "4         1       0  0.066611       1       0         1\n",
        "5         1       1  0.066611       0       0         0"
       ]
      }
     ],
     "prompt_number": 300
    },
    {
     "cell_type": "code",
     "collapsed": false,
     "input": [
      "'''Then as required, we define a shuffle function to shuffle data'''\n",
      "# Permute data points in dataframe\n",
      "\n",
      "def shuffle(df):\n",
      "    ind = df.index\n",
      "    for i in range(1):\n",
      "        sampler = np.random.permutation(df.shape[0])\n",
      "        new_vals = df.take(sampler).values\n",
      "        df = pd.DataFrame(new_vals, index=ind)\n",
      "    df.columns = ['constant', 'gender', 'age', 'class1', 'class2', 'survived']\n",
      "    return df\n",
      "\n",
      "shuffle(X).head()"
     ],
     "language": "python",
     "metadata": {},
     "outputs": [
      {
       "html": [
        "<div style=\"max-height:1000px;max-width:1500px;overflow:auto;\">\n",
        "<table border=\"1\" class=\"dataframe\">\n",
        "  <thead>\n",
        "    <tr style=\"text-align: right;\">\n",
        "      <th></th>\n",
        "      <th>constant</th>\n",
        "      <th>gender</th>\n",
        "      <th>age</th>\n",
        "      <th>class1</th>\n",
        "      <th>class2</th>\n",
        "      <th>survived</th>\n",
        "    </tr>\n",
        "  </thead>\n",
        "  <tbody>\n",
        "    <tr>\n",
        "      <th>1</th>\n",
        "      <td> 1</td>\n",
        "      <td> 0</td>\n",
        "      <td> 0.129441</td>\n",
        "      <td> 1</td>\n",
        "      <td> 0</td>\n",
        "      <td> 1</td>\n",
        "    </tr>\n",
        "    <tr>\n",
        "      <th>2</th>\n",
        "      <td> 1</td>\n",
        "      <td> 1</td>\n",
        "      <td> 0.242534</td>\n",
        "      <td> 1</td>\n",
        "      <td> 0</td>\n",
        "      <td> 1</td>\n",
        "    </tr>\n",
        "    <tr>\n",
        "      <th>3</th>\n",
        "      <td> 1</td>\n",
        "      <td> 0</td>\n",
        "      <td>-0.109313</td>\n",
        "      <td> 0</td>\n",
        "      <td> 0</td>\n",
        "      <td> 1</td>\n",
        "    </tr>\n",
        "    <tr>\n",
        "      <th>4</th>\n",
        "      <td> 1</td>\n",
        "      <td> 0</td>\n",
        "      <td>-0.071615</td>\n",
        "      <td> 0</td>\n",
        "      <td> 1</td>\n",
        "      <td> 1</td>\n",
        "    </tr>\n",
        "    <tr>\n",
        "      <th>5</th>\n",
        "      <td> 1</td>\n",
        "      <td> 1</td>\n",
        "      <td>-0.121879</td>\n",
        "      <td> 0</td>\n",
        "      <td> 0</td>\n",
        "      <td> 0</td>\n",
        "    </tr>\n",
        "  </tbody>\n",
        "</table>\n",
        "</div>"
       ],
       "metadata": {},
       "output_type": "pyout",
       "prompt_number": 275,
       "text": [
        "   constant  gender       age  class1  class2  survived\n",
        "1         1       0  0.129441       1       0         1\n",
        "2         1       1  0.242534       1       0         1\n",
        "3         1       0 -0.109313       0       0         1\n",
        "4         1       0 -0.071615       0       1         1\n",
        "5         1       1 -0.121879       0       0         0"
       ]
      }
     ],
     "prompt_number": 275
    },
    {
     "cell_type": "code",
     "collapsed": false,
     "input": [
      "'''In order to calculate the gradient, we construct the gradient function as blow'''\n",
      "# Write log likelihood function and its gradient w.r.t beta(b0,b1,b2,b3)\n",
      "from sympy.abc import *\n",
      "\n",
      "# First define x and beta, x0 represents constant 1\n",
      "# x1, x2, x3, x4 reprensent gender, age, class1, class2 respectively\n",
      "x0,x1,x2,x3,x4 = sp.symbols('x0:5')\n",
      "b0,b1,b2,b3,b4 = sp.symbols('b0:5')\n",
      "x = sp.Matrix([x0,x1,x2,x3,x4])\n",
      "b = sp.Matrix([[b0],[b1],[b2],[b3],[b4]])\n",
      "\n",
      "# define p: p(y=1|x) , l:log likelihood function\n",
      "# and grad_l: gradient of l w.r.t b0:4\n",
      "p = 1.0/(1.0+exp(-x.dot(b)))\n",
      "l = y*sp.log(p)+(1.0-y)*sp.log(1-p)\n",
      "grad_l_b0 = sp.simplify(l.diff(b0))\n",
      "grad_l_b1 = sp.simplify(l.diff(b1))\n",
      "grad_l_b2 = sp.simplify(l.diff(b2))\n",
      "grad_l_b3 = sp.simplify(l.diff(b3))\n",
      "grad_l_b4 = sp.simplify(l.diff(b4))\n",
      "\n",
      "# Transform grad_l to lambda function with input beta and data\n",
      "gradl0_value = sp.lambdify((b0,b1,b2,b3,b4,x0,x1,x2,x3,x4,y),grad_l_b0)\n",
      "gradl1_value = sp.lambdify((b0,b1,b2,b3,b4,x0,x1,x2,x3,x4,y),grad_l_b1)\n",
      "gradl2_value = sp.lambdify((b0,b1,b2,b3,b4,x0,x1,x2,x3,x4,y),grad_l_b2)\n",
      "gradl3_value = sp.lambdify((b0,b1,b2,b3,b4,x0,x1,x2,x3,x4,y),grad_l_b3)\n",
      "gradl4_value = sp.lambdify((b0,b1,b2,b3,b4,x0,x1,x2,x3,x4,y),grad_l_b4)\n",
      "\n",
      "print 'For example, gradient w.r.t b0 is:','\\n'\n",
      "grad_l_b0"
     ],
     "language": "python",
     "metadata": {},
     "outputs": [
      {
       "output_type": "stream",
       "stream": "stdout",
       "text": [
        "For example, gradient w.r.t b0 is: \n",
        "\n"
       ]
      },
      {
       "latex": [
        "$$\\frac{1.0 x_{0}}{e^{b_{0} x_{0} + b_{1} x_{1} + b_{2} x_{2} + b_{3} x_{3} + b_{4} x_{4}} + 1} \\left(y e^{b_{0} x_{0} + b_{1} x_{1} + b_{2} x_{2} + b_{3} x_{3} + b_{4} x_{4}} + y - e^{b_{0} x_{0} + b_{1} x_{1} + b_{2} x_{2} + b_{3} x_{3} + b_{4} x_{4}}\\right)$$"
       ],
       "metadata": {},
       "output_type": "pyout",
       "png": "[encoded data removed]",
       "prompt_number": 298,
       "text": [
        "       \u239b   b\u2080\u22c5x\u2080 + b\u2081\u22c5x\u2081 + b\u2082\u22c5x\u2082 + b\u2083\u22c5x\u2083 + b\u2084\u22c5x\u2084        b\u2080\u22c5x\u2080 + b\u2081\u22c5x\u2081 + b\u2082\u22c5x\u2082 \n",
        "1.0\u22c5x\u2080\u22c5\u239dy\u22c5\u212f                                      + y - \u212f                      \n",
        "\u2500\u2500\u2500\u2500\u2500\u2500\u2500\u2500\u2500\u2500\u2500\u2500\u2500\u2500\u2500\u2500\u2500\u2500\u2500\u2500\u2500\u2500\u2500\u2500\u2500\u2500\u2500\u2500\u2500\u2500\u2500\u2500\u2500\u2500\u2500\u2500\u2500\u2500\u2500\u2500\u2500\u2500\u2500\u2500\u2500\u2500\u2500\u2500\u2500\u2500\u2500\u2500\u2500\u2500\u2500\u2500\u2500\u2500\u2500\u2500\u2500\u2500\u2500\u2500\u2500\u2500\u2500\u2500\u2500\u2500\u2500\u2500\u2500\u2500\u2500\u2500\u2500\u2500\n",
        "                           b\u2080\u22c5x\u2080 + b\u2081\u22c5x\u2081 + b\u2082\u22c5x\u2082 + b\u2083\u22c5x\u2083 + b\u2084\u22c5x\u2084              \n",
        "                          \u212f                                      + 1          \n",
        "\n",
        "+ b\u2083\u22c5x\u2083 + b\u2084\u22c5x\u2084\u239e\n",
        "               \u23a0\n",
        "\u2500\u2500\u2500\u2500\u2500\u2500\u2500\u2500\u2500\u2500\u2500\u2500\u2500\u2500\u2500\u2500\n",
        "                \n",
        "                "
       ]
      }
     ],
     "prompt_number": 298
    },
    {
     "cell_type": "code",
     "collapsed": false,
     "input": [
      "#  Finally, Iterate beta using gradient ascent method\n",
      "def gra_asc(beta0,df,nmax=20,tol=1e-5):\n",
      "    \n",
      "    # Store beta and beta_lag for comparison\n",
      "    beta = beta0\n",
      "    beta_lag = [b + 1 for b in beta]\n",
      "    \n",
      "    # Iterate through data nmax times\n",
      "    for j in range(nmax):\n",
      "        \n",
      "        # Sheffle data\n",
      "        df = shuffle(df)\n",
      "        \n",
      "        # Iterate through data points\n",
      "        for i in range(len(df)):\n",
      "            data = df.iloc[i,:].tolist()\n",
      "            params = beta\n",
      "            params.extend(data)\n",
      "            params = tuple(params)\n",
      "            values = [gradl0_value(*params),gradl1_value(*params),gradl2_value(*params),gradl3_value(*params),gradl4_value(*params)]\n",
      "            beta = [beta + values for beta, values in zip(beta, values)]\n",
      "            beta_com = beta\n",
      "            \n",
      "            # Break if converge, and print the round and datapoint that beta reach convergence\n",
      "            if np.linalg.norm([beta1 - beta2 for beta1, beta2 in zip(beta_com, beta_lag)]) < tol:\n",
      "                print 'converged at round %d data point %i'%(j,i),'\\n','The converged value of beta is'\n",
      "                break\n",
      "            beta_lag = beta\n",
      "        \n",
      "        # If converged, break higher loop\n",
      "        if np.linalg.norm([beta1 - beta2 for beta1, beta2 in zip(beta_com, beta_lag)]) < tol:\n",
      "            break\n",
      "    \n",
      "    return beta\n",
      "\n",
      "print 'When tol = 1e-2, The converged value of best beta is:','\\n',gra_asc([1,1,1,1,1],X,20,1e-2),'\\n'\n",
      "print 'But if we adjust tol = 1e-5, it does not converge','\\n',gra_asc([1,1,1,1,1],X,20,1e-5)"
     ],
     "language": "python",
     "metadata": {},
     "outputs": [
      {
       "output_type": "stream",
       "stream": "stdout",
       "text": [
        "When tol = 1e-2, The converged value of best beta is: \n",
        "converged at round 0 data point 220 \n",
        "The converged value of beta is\n",
        "[1.1825539662708615, -2.3941025651677261, -2.5265609852281026, 3.7244023249566842, 1.0106756162094235] \n",
        "\n",
        "But if we adjust tol = 1e-5, it does not converge \n",
        "[-0.49295888665240967, -3.0608698164569765, -3.3570451358410143, 1.9800911443246516, 1.0183591134791672]"
       ]
      },
      {
       "output_type": "stream",
       "stream": "stdout",
       "text": [
        "\n"
       ]
      }
     ],
     "prompt_number": 354
    }
   ],
   "metadata": {}
  }
 ]
}